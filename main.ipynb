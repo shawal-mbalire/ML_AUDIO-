{
 "cells": [
  {
   "cell_type": "code",
   "execution_count": 1,
   "metadata": {},
   "outputs": [],
   "source": [
    "# data is got from https://commonvoice.mozilla.org/en/datasets -luganda corpus 6.1 12/22/2020"
   ]
  },
  {
   "cell_type": "code",
   "execution_count": 2,
   "metadata": {},
   "outputs": [
    {
     "name": "stderr",
     "output_type": "stream",
     "text": [
      "2024-02-06 17:16:55.583980: I external/local_tsl/tsl/cuda/cudart_stub.cc:31] Could not find cuda drivers on your machine, GPU will not be used.\n",
      "2024-02-06 17:16:56.079602: E external/local_xla/xla/stream_executor/cuda/cuda_dnn.cc:9261] Unable to register cuDNN factory: Attempting to register factory for plugin cuDNN when one has already been registered\n",
      "2024-02-06 17:16:56.079663: E external/local_xla/xla/stream_executor/cuda/cuda_fft.cc:607] Unable to register cuFFT factory: Attempting to register factory for plugin cuFFT when one has already been registered\n",
      "2024-02-06 17:16:56.112816: E external/local_xla/xla/stream_executor/cuda/cuda_blas.cc:1515] Unable to register cuBLAS factory: Attempting to register factory for plugin cuBLAS when one has already been registered\n",
      "2024-02-06 17:16:56.129001: I external/local_tsl/tsl/cuda/cudart_stub.cc:31] Could not find cuda drivers on your machine, GPU will not be used.\n",
      "2024-02-06 17:16:56.130359: I tensorflow/core/platform/cpu_feature_guard.cc:182] This TensorFlow binary is optimized to use available CPU instructions in performance-critical operations.\n",
      "To enable the following instructions: AVX2 FMA, in other operations, rebuild TensorFlow with the appropriate compiler flags.\n",
      "2024-02-06 17:16:57.657140: W tensorflow/compiler/tf2tensorrt/utils/py_utils.cc:38] TF-TRT Warning: Could not find TensorRT\n"
     ]
    }
   ],
   "source": [
    "import pydub \n",
    "\n",
    "import pandas as pd\n",
    "import numpy as np\n",
    "import tensorflow as tf\n",
    "import matplotlib.pyplot as plt\n",
    "import tensorflow_io as tfio\n",
    "\n",
    "from tensorflow.keras import layers\n",
    "from IPython.display import Audio, display\n",
    "from jiwer import wer"
   ]
  },
  {
   "cell_type": "code",
   "execution_count": 3,
   "metadata": {},
   "outputs": [],
   "source": [
    "DATA_DIR = \"/home/shawal/Downloads/lg/\"\n",
    "AUDIO_DIR = \"/home/shawal/Downloads/lg/clips/\"\n",
    "\n",
    "train     = pd.read_csv(f\"{DATA_DIR}train.tsv\",       sep=\"\\t\")\n",
    "test      = pd.read_csv(f\"{DATA_DIR}test.tsv\",        sep=\"\\t\")\n",
    "dev       = pd.read_csv(f\"{DATA_DIR}dev.tsv\",         sep=\"\\t\")\n",
    "invalid   = pd.read_csv(f\"{DATA_DIR}invalidated.tsv\", sep=\"\\t\")\n",
    "other     = pd.read_csv(f\"{DATA_DIR}other.tsv\",       sep=\"\\t\")\n",
    "reported  = pd.read_csv(f\"{DATA_DIR}reported.tsv\",    sep=\"\\t\")\n",
    "validated = pd.read_csv(f\"{DATA_DIR}validated.tsv\",   sep=\"\\t\")"
   ]
  },
  {
   "cell_type": "code",
   "execution_count": 4,
   "metadata": {},
   "outputs": [
    {
     "data": {
      "text/html": [
       "<div>\n",
       "<style scoped>\n",
       "    .dataframe tbody tr th:only-of-type {\n",
       "        vertical-align: middle;\n",
       "    }\n",
       "\n",
       "    .dataframe tbody tr th {\n",
       "        vertical-align: top;\n",
       "    }\n",
       "\n",
       "    .dataframe thead th {\n",
       "        text-align: right;\n",
       "    }\n",
       "</style>\n",
       "<table border=\"1\" class=\"dataframe\">\n",
       "  <thead>\n",
       "    <tr style=\"text-align: right;\">\n",
       "      <th></th>\n",
       "      <th>client_id</th>\n",
       "      <th>path</th>\n",
       "      <th>sentence</th>\n",
       "      <th>up_votes</th>\n",
       "      <th>down_votes</th>\n",
       "      <th>age</th>\n",
       "      <th>gender</th>\n",
       "      <th>accent</th>\n",
       "      <th>locale</th>\n",
       "      <th>segment</th>\n",
       "    </tr>\n",
       "  </thead>\n",
       "  <tbody>\n",
       "    <tr>\n",
       "      <th>0</th>\n",
       "      <td>7b01ca05762b1c62944a249461f1dc5ade5bc855aebd8e...</td>\n",
       "      <td>common_voice_lg_23717981.mp3</td>\n",
       "      <td>Nze nnakoowa okukima amazzi kuba temunsasula b...</td>\n",
       "      <td>2</td>\n",
       "      <td>0</td>\n",
       "      <td>thirties</td>\n",
       "      <td>female</td>\n",
       "      <td>NaN</td>\n",
       "      <td>lg</td>\n",
       "      <td>NaN</td>\n",
       "    </tr>\n",
       "    <tr>\n",
       "      <th>1</th>\n",
       "      <td>7b01ca05762b1c62944a249461f1dc5ade5bc855aebd8e...</td>\n",
       "      <td>common_voice_lg_23718760.mp3</td>\n",
       "      <td>Neebaza nnyo ssezaala wange kuba yangabira ente.</td>\n",
       "      <td>3</td>\n",
       "      <td>0</td>\n",
       "      <td>thirties</td>\n",
       "      <td>female</td>\n",
       "      <td>NaN</td>\n",
       "      <td>lg</td>\n",
       "      <td>NaN</td>\n",
       "    </tr>\n",
       "    <tr>\n",
       "      <th>2</th>\n",
       "      <td>7b01ca05762b1c62944a249461f1dc5ade5bc855aebd8e...</td>\n",
       "      <td>common_voice_lg_23718761.mp3</td>\n",
       "      <td>Ntudde nnyo kati omugongo gunnuma.</td>\n",
       "      <td>2</td>\n",
       "      <td>0</td>\n",
       "      <td>thirties</td>\n",
       "      <td>female</td>\n",
       "      <td>NaN</td>\n",
       "      <td>lg</td>\n",
       "      <td>NaN</td>\n",
       "    </tr>\n",
       "    <tr>\n",
       "      <th>3</th>\n",
       "      <td>7b01ca05762b1c62944a249461f1dc5ade5bc855aebd8e...</td>\n",
       "      <td>common_voice_lg_23718762.mp3</td>\n",
       "      <td>Omuntu akusaba ssente ate nga naawe tolina aku...</td>\n",
       "      <td>2</td>\n",
       "      <td>0</td>\n",
       "      <td>thirties</td>\n",
       "      <td>female</td>\n",
       "      <td>NaN</td>\n",
       "      <td>lg</td>\n",
       "      <td>NaN</td>\n",
       "    </tr>\n",
       "    <tr>\n",
       "      <th>4</th>\n",
       "      <td>7b01ca05762b1c62944a249461f1dc5ade5bc855aebd8e...</td>\n",
       "      <td>common_voice_lg_23718763.mp3</td>\n",
       "      <td>Amawulire g'ennaku zino galimu nnyo okuttingan...</td>\n",
       "      <td>2</td>\n",
       "      <td>0</td>\n",
       "      <td>thirties</td>\n",
       "      <td>female</td>\n",
       "      <td>NaN</td>\n",
       "      <td>lg</td>\n",
       "      <td>NaN</td>\n",
       "    </tr>\n",
       "    <tr>\n",
       "      <th>...</th>\n",
       "      <td>...</td>\n",
       "      <td>...</td>\n",
       "      <td>...</td>\n",
       "      <td>...</td>\n",
       "      <td>...</td>\n",
       "      <td>...</td>\n",
       "      <td>...</td>\n",
       "      <td>...</td>\n",
       "      <td>...</td>\n",
       "      <td>...</td>\n",
       "    </tr>\n",
       "    <tr>\n",
       "      <th>1245</th>\n",
       "      <td>7b01ca05762b1c62944a249461f1dc5ade5bc855aebd8e...</td>\n",
       "      <td>common_voice_lg_23909150.mp3</td>\n",
       "      <td>Bw'osalawo okutandika okulunda embuzi olina ok...</td>\n",
       "      <td>2</td>\n",
       "      <td>0</td>\n",
       "      <td>thirties</td>\n",
       "      <td>female</td>\n",
       "      <td>NaN</td>\n",
       "      <td>lg</td>\n",
       "      <td>NaN</td>\n",
       "    </tr>\n",
       "    <tr>\n",
       "      <th>1246</th>\n",
       "      <td>7b01ca05762b1c62944a249461f1dc5ade5bc855aebd8e...</td>\n",
       "      <td>common_voice_lg_23909562.mp3</td>\n",
       "      <td>Amayuuni galimibwa mu bitundu ebirimu amazzi.</td>\n",
       "      <td>2</td>\n",
       "      <td>0</td>\n",
       "      <td>thirties</td>\n",
       "      <td>female</td>\n",
       "      <td>NaN</td>\n",
       "      <td>lg</td>\n",
       "      <td>NaN</td>\n",
       "    </tr>\n",
       "    <tr>\n",
       "      <th>1247</th>\n",
       "      <td>7b01ca05762b1c62944a249461f1dc5ade5bc855aebd8e...</td>\n",
       "      <td>common_voice_lg_23909607.mp3</td>\n",
       "      <td>Tugende e Makindye tulabe abayimbi n'abazannyi...</td>\n",
       "      <td>2</td>\n",
       "      <td>0</td>\n",
       "      <td>thirties</td>\n",
       "      <td>female</td>\n",
       "      <td>NaN</td>\n",
       "      <td>lg</td>\n",
       "      <td>NaN</td>\n",
       "    </tr>\n",
       "    <tr>\n",
       "      <th>1248</th>\n",
       "      <td>7b01ca05762b1c62944a249461f1dc5ade5bc855aebd8e...</td>\n",
       "      <td>common_voice_lg_23909643.mp3</td>\n",
       "      <td>Okulima ensangi zino tekukyalimu nnyo ssete ng...</td>\n",
       "      <td>2</td>\n",
       "      <td>0</td>\n",
       "      <td>thirties</td>\n",
       "      <td>female</td>\n",
       "      <td>NaN</td>\n",
       "      <td>lg</td>\n",
       "      <td>NaN</td>\n",
       "    </tr>\n",
       "    <tr>\n",
       "      <th>1249</th>\n",
       "      <td>7b01ca05762b1c62944a249461f1dc5ade5bc855aebd8e...</td>\n",
       "      <td>common_voice_lg_23909699.mp3</td>\n",
       "      <td>Si kirungi muntu kunoonya mulimu gusasula bulu...</td>\n",
       "      <td>2</td>\n",
       "      <td>0</td>\n",
       "      <td>thirties</td>\n",
       "      <td>female</td>\n",
       "      <td>NaN</td>\n",
       "      <td>lg</td>\n",
       "      <td>NaN</td>\n",
       "    </tr>\n",
       "  </tbody>\n",
       "</table>\n",
       "<p>1250 rows × 10 columns</p>\n",
       "</div>"
      ],
      "text/plain": [
       "                                              client_id  \\\n",
       "0     7b01ca05762b1c62944a249461f1dc5ade5bc855aebd8e...   \n",
       "1     7b01ca05762b1c62944a249461f1dc5ade5bc855aebd8e...   \n",
       "2     7b01ca05762b1c62944a249461f1dc5ade5bc855aebd8e...   \n",
       "3     7b01ca05762b1c62944a249461f1dc5ade5bc855aebd8e...   \n",
       "4     7b01ca05762b1c62944a249461f1dc5ade5bc855aebd8e...   \n",
       "...                                                 ...   \n",
       "1245  7b01ca05762b1c62944a249461f1dc5ade5bc855aebd8e...   \n",
       "1246  7b01ca05762b1c62944a249461f1dc5ade5bc855aebd8e...   \n",
       "1247  7b01ca05762b1c62944a249461f1dc5ade5bc855aebd8e...   \n",
       "1248  7b01ca05762b1c62944a249461f1dc5ade5bc855aebd8e...   \n",
       "1249  7b01ca05762b1c62944a249461f1dc5ade5bc855aebd8e...   \n",
       "\n",
       "                              path  \\\n",
       "0     common_voice_lg_23717981.mp3   \n",
       "1     common_voice_lg_23718760.mp3   \n",
       "2     common_voice_lg_23718761.mp3   \n",
       "3     common_voice_lg_23718762.mp3   \n",
       "4     common_voice_lg_23718763.mp3   \n",
       "...                            ...   \n",
       "1245  common_voice_lg_23909150.mp3   \n",
       "1246  common_voice_lg_23909562.mp3   \n",
       "1247  common_voice_lg_23909607.mp3   \n",
       "1248  common_voice_lg_23909643.mp3   \n",
       "1249  common_voice_lg_23909699.mp3   \n",
       "\n",
       "                                               sentence  up_votes  down_votes  \\\n",
       "0     Nze nnakoowa okukima amazzi kuba temunsasula b...         2           0   \n",
       "1      Neebaza nnyo ssezaala wange kuba yangabira ente.         3           0   \n",
       "2                    Ntudde nnyo kati omugongo gunnuma.         2           0   \n",
       "3     Omuntu akusaba ssente ate nga naawe tolina aku...         2           0   \n",
       "4     Amawulire g'ennaku zino galimu nnyo okuttingan...         2           0   \n",
       "...                                                 ...       ...         ...   \n",
       "1245  Bw'osalawo okutandika okulunda embuzi olina ok...         2           0   \n",
       "1246      Amayuuni galimibwa mu bitundu ebirimu amazzi.         2           0   \n",
       "1247  Tugende e Makindye tulabe abayimbi n'abazannyi...         2           0   \n",
       "1248  Okulima ensangi zino tekukyalimu nnyo ssete ng...         2           0   \n",
       "1249  Si kirungi muntu kunoonya mulimu gusasula bulu...         2           0   \n",
       "\n",
       "           age  gender  accent locale  segment  \n",
       "0     thirties  female     NaN     lg      NaN  \n",
       "1     thirties  female     NaN     lg      NaN  \n",
       "2     thirties  female     NaN     lg      NaN  \n",
       "3     thirties  female     NaN     lg      NaN  \n",
       "4     thirties  female     NaN     lg      NaN  \n",
       "...        ...     ...     ...    ...      ...  \n",
       "1245  thirties  female     NaN     lg      NaN  \n",
       "1246  thirties  female     NaN     lg      NaN  \n",
       "1247  thirties  female     NaN     lg      NaN  \n",
       "1248  thirties  female     NaN     lg      NaN  \n",
       "1249  thirties  female     NaN     lg      NaN  \n",
       "\n",
       "[1250 rows x 10 columns]"
      ]
     },
     "execution_count": 4,
     "metadata": {},
     "output_type": "execute_result"
    }
   ],
   "source": [
    "train"
   ]
  },
  {
   "cell_type": "code",
   "execution_count": 5,
   "metadata": {},
   "outputs": [
    {
     "data": {
      "text/html": [
       "\n",
       "                    <audio controls>\n",
       "                        <source src=\"data:audio/mpeg;base64,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\" type=\"audio/mpeg\"/>\n",
       "                        Your browser does not support the audio element.\n",
       "                    </audio>\n",
       "                  "
      ],
      "text/plain": [
       "<pydub.audio_segment.AudioSegment at 0x731590296150>"
      ]
     },
     "execution_count": 5,
     "metadata": {},
     "output_type": "execute_result"
    }
   ],
   "source": [
    "sample_audio_dir:str = AUDIO_DIR + train['path'][0]\n",
    "audio = pydub.AudioSegment.from_file(sample_audio_dir)\n",
    "audio "
   ]
  },
  {
   "cell_type": "code",
   "execution_count": 6,
   "metadata": {},
   "outputs": [],
   "source": [
    "# speech waveform \n",
    "# generrate discrete samples \n",
    "# acoustic feature extration\n",
    "# phoneme recognition\n",
    "# hidden markov model - this is "
   ]
  },
  {
   "cell_type": "code",
   "execution_count": 7,
   "metadata": {},
   "outputs": [
    {
     "data": {
      "text/plain": [
       "Index(['client_id', 'path', 'sentence', 'up_votes', 'down_votes', 'age',\n",
       "       'gender', 'accent', 'locale', 'segment'],\n",
       "      dtype='object')"
      ]
     },
     "execution_count": 7,
     "metadata": {},
     "output_type": "execute_result"
    }
   ],
   "source": [
    "train.columns"
   ]
  },
  {
   "cell_type": "code",
   "execution_count": 8,
   "metadata": {},
   "outputs": [
    {
     "data": {
      "text/html": [
       "<div>\n",
       "<style scoped>\n",
       "    .dataframe tbody tr th:only-of-type {\n",
       "        vertical-align: middle;\n",
       "    }\n",
       "\n",
       "    .dataframe tbody tr th {\n",
       "        vertical-align: top;\n",
       "    }\n",
       "\n",
       "    .dataframe thead th {\n",
       "        text-align: right;\n",
       "    }\n",
       "</style>\n",
       "<table border=\"1\" class=\"dataframe\">\n",
       "  <thead>\n",
       "    <tr style=\"text-align: right;\">\n",
       "      <th></th>\n",
       "      <th>path</th>\n",
       "      <th>sentence</th>\n",
       "    </tr>\n",
       "  </thead>\n",
       "  <tbody>\n",
       "    <tr>\n",
       "      <th>0</th>\n",
       "      <td>common_voice_lg_23717981.mp3</td>\n",
       "      <td>Nze nnakoowa okukima amazzi kuba temunsasula b...</td>\n",
       "    </tr>\n",
       "    <tr>\n",
       "      <th>1</th>\n",
       "      <td>common_voice_lg_23718760.mp3</td>\n",
       "      <td>Neebaza nnyo ssezaala wange kuba yangabira ente.</td>\n",
       "    </tr>\n",
       "    <tr>\n",
       "      <th>2</th>\n",
       "      <td>common_voice_lg_23718761.mp3</td>\n",
       "      <td>Ntudde nnyo kati omugongo gunnuma.</td>\n",
       "    </tr>\n",
       "    <tr>\n",
       "      <th>3</th>\n",
       "      <td>common_voice_lg_23718762.mp3</td>\n",
       "      <td>Omuntu akusaba ssente ate nga naawe tolina aku...</td>\n",
       "    </tr>\n",
       "    <tr>\n",
       "      <th>4</th>\n",
       "      <td>common_voice_lg_23718763.mp3</td>\n",
       "      <td>Amawulire g'ennaku zino galimu nnyo okuttingan...</td>\n",
       "    </tr>\n",
       "    <tr>\n",
       "      <th>...</th>\n",
       "      <td>...</td>\n",
       "      <td>...</td>\n",
       "    </tr>\n",
       "    <tr>\n",
       "      <th>1245</th>\n",
       "      <td>common_voice_lg_23909150.mp3</td>\n",
       "      <td>Bw'osalawo okutandika okulunda embuzi olina ok...</td>\n",
       "    </tr>\n",
       "    <tr>\n",
       "      <th>1246</th>\n",
       "      <td>common_voice_lg_23909562.mp3</td>\n",
       "      <td>Amayuuni galimibwa mu bitundu ebirimu amazzi.</td>\n",
       "    </tr>\n",
       "    <tr>\n",
       "      <th>1247</th>\n",
       "      <td>common_voice_lg_23909607.mp3</td>\n",
       "      <td>Tugende e Makindye tulabe abayimbi n'abazannyi...</td>\n",
       "    </tr>\n",
       "    <tr>\n",
       "      <th>1248</th>\n",
       "      <td>common_voice_lg_23909643.mp3</td>\n",
       "      <td>Okulima ensangi zino tekukyalimu nnyo ssete ng...</td>\n",
       "    </tr>\n",
       "    <tr>\n",
       "      <th>1249</th>\n",
       "      <td>common_voice_lg_23909699.mp3</td>\n",
       "      <td>Si kirungi muntu kunoonya mulimu gusasula bulu...</td>\n",
       "    </tr>\n",
       "  </tbody>\n",
       "</table>\n",
       "<p>1250 rows × 2 columns</p>\n",
       "</div>"
      ],
      "text/plain": [
       "                              path  \\\n",
       "0     common_voice_lg_23717981.mp3   \n",
       "1     common_voice_lg_23718760.mp3   \n",
       "2     common_voice_lg_23718761.mp3   \n",
       "3     common_voice_lg_23718762.mp3   \n",
       "4     common_voice_lg_23718763.mp3   \n",
       "...                            ...   \n",
       "1245  common_voice_lg_23909150.mp3   \n",
       "1246  common_voice_lg_23909562.mp3   \n",
       "1247  common_voice_lg_23909607.mp3   \n",
       "1248  common_voice_lg_23909643.mp3   \n",
       "1249  common_voice_lg_23909699.mp3   \n",
       "\n",
       "                                               sentence  \n",
       "0     Nze nnakoowa okukima amazzi kuba temunsasula b...  \n",
       "1      Neebaza nnyo ssezaala wange kuba yangabira ente.  \n",
       "2                    Ntudde nnyo kati omugongo gunnuma.  \n",
       "3     Omuntu akusaba ssente ate nga naawe tolina aku...  \n",
       "4     Amawulire g'ennaku zino galimu nnyo okuttingan...  \n",
       "...                                                 ...  \n",
       "1245  Bw'osalawo okutandika okulunda embuzi olina ok...  \n",
       "1246      Amayuuni galimibwa mu bitundu ebirimu amazzi.  \n",
       "1247  Tugende e Makindye tulabe abayimbi n'abazannyi...  \n",
       "1248  Okulima ensangi zino tekukyalimu nnyo ssete ng...  \n",
       "1249  Si kirungi muntu kunoonya mulimu gusasula bulu...  \n",
       "\n",
       "[1250 rows x 2 columns]"
      ]
     },
     "execution_count": 8,
     "metadata": {},
     "output_type": "execute_result"
    }
   ],
   "source": [
    "my_train = train[['path', 'sentence']]\n",
    "my_train"
   ]
  },
  {
   "cell_type": "markdown",
   "metadata": {},
   "source": [
    "# Preprocessing"
   ]
  },
  {
   "cell_type": "code",
   "execution_count": 9,
   "metadata": {},
   "outputs": [],
   "source": [
    "accepted_chars = [x for x in \"abcdefghijklmnopqrstuvwxyz\\'.?!, \"]\n",
    "char_to_num = layers.experimental.preprocessing.StringLookup(vocabulary=accepted_chars, mask_token=None,oov_token=\"\")\n",
    "num_to_char = layers.experimental.preprocessing.StringLookup(vocabulary=char_to_num.get_vocabulary(), mask_token=None, oov_token=\"\", invert=True)"
   ]
  },
  {
   "cell_type": "code",
   "execution_count": 10,
   "metadata": {},
   "outputs": [],
   "source": [
    "frame_length = 256\n",
    "frame_step = 160\n",
    "fft_length = 384\n",
    "input_shape = (frame_length, 1)"
   ]
  },
  {
   "cell_type": "code",
   "execution_count": 11,
   "metadata": {},
   "outputs": [],
   "source": [
    "def encode_signal_samples(mp3_file:str, label:str):\n",
    "    \n",
    "    audio = tf.io.read_file(DATA_DIR+mp3_file)\n",
    "    audio = tfio.audio.decode_mp3(audio)\n",
    "    audio = tf.squeeze(audio, axis=-1)\n",
    "    audio = tf.cast(audio, tf.float32)\n",
    "\n",
    "    spectrogram = tf.signal.stft(audio, frame_length=frame_length, frame_step=frame_step, fft_length=fft_length)\n",
    "    spectrogram = tf.abs(spectrogram)\n",
    "    spectrogram = tf.math.pow(spectrogram, 0.5)\n",
    "\n",
    "    means = tf.math.reduce_mean(spectrogram, 1, keepdims=True)\n",
    "    stddevs = tf.math.reduce_std(spectrogram, 1, keepdims=True)\n",
    "    spectrogram = (spectrogram - means) / (stddevs + 1e-10)\n",
    "\n",
    "    label = tf.strings.lower(label)   \n",
    "    label = tf.strings.unicode_split(label, input_encoding=\"UTF-8\")\n",
    "    label = char_to_num(label)\n",
    "\n",
    "    return spectrogram, label"
   ]
  },
  {
   "cell_type": "code",
   "execution_count": 16,
   "metadata": {},
   "outputs": [],
   "source": [
    "batch_size = 32\n",
    "\n",
    "train_dataset = tf.data.Dataset.from_tensor_slices(\n",
    "    (list(my_train['path']), list(my_train['sentence']))\n",
    ")\n",
    "train_dataset = (\n",
    "    train_dataset.map(encode_signal_samples,num_parallel_calls=tf.data.AUTOTUNE)\n",
    "    .padded_batch(batch_size)\n",
    "    .prefetch(tf.data.AUTOTUNE)\n",
    ")\n",
    "\n",
    "test_dataset = tf.data.Dataset.from_tensor_slices(\n",
    "    (list(test['path']), list(test['sentence']))\n",
    ")\n",
    "test_dataset = (\n",
    "    test_dataset.map(encode_signal_samples,num_parallel_calls=tf.data.AUTOTUNE)\n",
    "    .padded_batch(batch_size)\n",
    "    .prefetch(tf.data.AUTOTUNE)\n",
    ")"
   ]
  },
  {
   "cell_type": "code",
   "execution_count": 17,
   "metadata": {},
   "outputs": [
    {
     "data": {
      "text/plain": [
       "(TensorSpec(shape=(None, None, 193), dtype=tf.float32, name=None),\n",
       " TensorSpec(shape=(None, None), dtype=tf.int64, name=None))"
      ]
     },
     "execution_count": 17,
     "metadata": {},
     "output_type": "execute_result"
    }
   ],
   "source": [
    "train_dataset.element_spec"
   ]
  },
  {
   "cell_type": "code",
   "execution_count": 21,
   "metadata": {},
   "outputs": [
    {
     "name": "stderr",
     "output_type": "stream",
     "text": [
      "2024-02-06 17:21:34.169371: W tensorflow/core/framework/op_kernel.cc:1839] OP_REQUIRES failed at whole_file_read_ops.cc:116 : NOT_FOUND: /home/shawal/Downloads/lg/common_voice_lg_23718761.mp3; No such file or directory\n",
      "2024-02-06 17:21:34.169402: W tensorflow/core/framework/op_kernel.cc:1839] OP_REQUIRES failed at whole_file_read_ops.cc:116 : NOT_FOUND: /home/shawal/Downloads/lg/common_voice_lg_23717981.mp3; No such file or directory\n",
      "2024-02-06 17:21:34.169465: W tensorflow/core/framework/op_kernel.cc:1839] OP_REQUIRES failed at whole_file_read_ops.cc:116 : NOT_FOUND: /home/shawal/Downloads/lg/common_voice_lg_23718760.mp3; No such file or directory\n",
      "2024-02-06 17:21:34.169516: W tensorflow/core/framework/op_kernel.cc:1839] OP_REQUIRES failed at whole_file_read_ops.cc:116 : NOT_FOUND: /home/shawal/Downloads/lg/common_voice_lg_23718762.mp3; No such file or directory\n",
      "2024-02-06 17:21:34.169597: W tensorflow/core/framework/op_kernel.cc:1839] OP_REQUIRES failed at whole_file_read_ops.cc:116 : NOT_FOUND: /home/shawal/Downloads/lg/common_voice_lg_23718763.mp3; No such file or directory\n",
      "2024-02-06 17:21:34.169933: W tensorflow/core/framework/op_kernel.cc:1839] OP_REQUIRES failed at whole_file_read_ops.cc:116 : NOT_FOUND: /home/shawal/Downloads/lg/common_voice_lg_23722513.mp3; No such file or directory\n",
      "2024-02-06 17:21:34.170649: W tensorflow/core/framework/op_kernel.cc:1839] OP_REQUIRES failed at whole_file_read_ops.cc:116 : NOT_FOUND: /home/shawal/Downloads/lg/common_voice_lg_23722514.mp3; No such file or directory\n"
     ]
    },
    {
     "ename": "NotFoundError",
     "evalue": "{{function_node __wrapped__IteratorGetNext_output_types_2_device_/job:localhost/replica:0/task:0/device:CPU:0}} /home/shawal/Downloads/lg/common_voice_lg_23717981.mp3; No such file or directory\n\t [[{{node ReadFile}}]] [Op:IteratorGetNext] name: ",
     "output_type": "error",
     "traceback": [
      "\u001b[0;31m---------------------------------------------------------------------------\u001b[0m",
      "\u001b[0;31mNotFoundError\u001b[0m                             Traceback (most recent call last)",
      "Cell \u001b[0;32mIn[21], line 3\u001b[0m\n\u001b[1;32m      1\u001b[0m fig \u001b[38;5;241m=\u001b[39m plt\u001b[38;5;241m.\u001b[39mfigure(figsize\u001b[38;5;241m=\u001b[39m(\u001b[38;5;241m10\u001b[39m, \u001b[38;5;241m6\u001b[39m))\n\u001b[0;32m----> 3\u001b[0m \u001b[38;5;28;43;01mfor\u001b[39;49;00m\u001b[43m \u001b[49m\u001b[43mbatch\u001b[49m\u001b[43m \u001b[49m\u001b[38;5;129;43;01min\u001b[39;49;00m\u001b[43m \u001b[49m\u001b[43mtrain_dataset\u001b[49m\u001b[38;5;241;43m.\u001b[39;49m\u001b[43mtake\u001b[49m\u001b[43m(\u001b[49m\u001b[38;5;241;43m1\u001b[39;49m\u001b[43m)\u001b[49m\u001b[43m:\u001b[49m\n\u001b[1;32m      4\u001b[0m \u001b[43m    \u001b[49m\u001b[43mspectrogram\u001b[49m\u001b[43m \u001b[49m\u001b[38;5;241;43m=\u001b[39;49m\u001b[43m \u001b[49m\u001b[43mbatch\u001b[49m\u001b[43m[\u001b[49m\u001b[38;5;241;43m0\u001b[39;49m\u001b[43m]\u001b[49m\u001b[43m[\u001b[49m\u001b[38;5;241;43m0\u001b[39;49m\u001b[43m]\u001b[49m\u001b[38;5;241;43m.\u001b[39;49m\u001b[43mnumpy\u001b[49m\u001b[43m(\u001b[49m\u001b[43m)\u001b[49m\n\u001b[1;32m      5\u001b[0m \u001b[43m    \u001b[49m\u001b[43mspectrogram\u001b[49m\u001b[43m \u001b[49m\u001b[38;5;241;43m=\u001b[39;49m\u001b[43m \u001b[49m\u001b[43mnp\u001b[49m\u001b[38;5;241;43m.\u001b[39;49m\u001b[43marray\u001b[49m\u001b[43m(\u001b[49m\u001b[43m[\u001b[49m\u001b[43mnp\u001b[49m\u001b[38;5;241;43m.\u001b[39;49m\u001b[43mtrim_zeros\u001b[49m\u001b[43m(\u001b[49m\u001b[43mx\u001b[49m\u001b[43m)\u001b[49m\u001b[43m \u001b[49m\u001b[38;5;28;43;01mfor\u001b[39;49;00m\u001b[43m \u001b[49m\u001b[43mx\u001b[49m\u001b[43m \u001b[49m\u001b[38;5;129;43;01min\u001b[39;49;00m\u001b[43m \u001b[49m\u001b[43mnp\u001b[49m\u001b[38;5;241;43m.\u001b[39;49m\u001b[43mtranspose\u001b[49m\u001b[43m(\u001b[49m\u001b[43mspectrogram\u001b[49m\u001b[43m)\u001b[49m\u001b[43m]\u001b[49m\u001b[43m)\u001b[49m\n",
      "File \u001b[0;32m~/.local/lib/python3.11/site-packages/tensorflow/python/data/ops/iterator_ops.py:810\u001b[0m, in \u001b[0;36mOwnedIterator.__next__\u001b[0;34m(self)\u001b[0m\n\u001b[1;32m    808\u001b[0m \u001b[38;5;28;01mdef\u001b[39;00m \u001b[38;5;21m__next__\u001b[39m(\u001b[38;5;28mself\u001b[39m):\n\u001b[1;32m    809\u001b[0m   \u001b[38;5;28;01mtry\u001b[39;00m:\n\u001b[0;32m--> 810\u001b[0m     \u001b[38;5;28;01mreturn\u001b[39;00m \u001b[38;5;28;43mself\u001b[39;49m\u001b[38;5;241;43m.\u001b[39;49m\u001b[43m_next_internal\u001b[49m\u001b[43m(\u001b[49m\u001b[43m)\u001b[49m\n\u001b[1;32m    811\u001b[0m   \u001b[38;5;28;01mexcept\u001b[39;00m errors\u001b[38;5;241m.\u001b[39mOutOfRangeError:\n\u001b[1;32m    812\u001b[0m     \u001b[38;5;28;01mraise\u001b[39;00m \u001b[38;5;167;01mStopIteration\u001b[39;00m\n",
      "File \u001b[0;32m~/.local/lib/python3.11/site-packages/tensorflow/python/data/ops/iterator_ops.py:773\u001b[0m, in \u001b[0;36mOwnedIterator._next_internal\u001b[0;34m(self)\u001b[0m\n\u001b[1;32m    770\u001b[0m \u001b[38;5;66;03m# TODO(b/77291417): This runs in sync mode as iterators use an error status\u001b[39;00m\n\u001b[1;32m    771\u001b[0m \u001b[38;5;66;03m# to communicate that there is no more data to iterate over.\u001b[39;00m\n\u001b[1;32m    772\u001b[0m \u001b[38;5;28;01mwith\u001b[39;00m context\u001b[38;5;241m.\u001b[39mexecution_mode(context\u001b[38;5;241m.\u001b[39mSYNC):\n\u001b[0;32m--> 773\u001b[0m   ret \u001b[38;5;241m=\u001b[39m \u001b[43mgen_dataset_ops\u001b[49m\u001b[38;5;241;43m.\u001b[39;49m\u001b[43miterator_get_next\u001b[49m\u001b[43m(\u001b[49m\n\u001b[1;32m    774\u001b[0m \u001b[43m      \u001b[49m\u001b[38;5;28;43mself\u001b[39;49m\u001b[38;5;241;43m.\u001b[39;49m\u001b[43m_iterator_resource\u001b[49m\u001b[43m,\u001b[49m\n\u001b[1;32m    775\u001b[0m \u001b[43m      \u001b[49m\u001b[43moutput_types\u001b[49m\u001b[38;5;241;43m=\u001b[39;49m\u001b[38;5;28;43mself\u001b[39;49m\u001b[38;5;241;43m.\u001b[39;49m\u001b[43m_flat_output_types\u001b[49m\u001b[43m,\u001b[49m\n\u001b[1;32m    776\u001b[0m \u001b[43m      \u001b[49m\u001b[43moutput_shapes\u001b[49m\u001b[38;5;241;43m=\u001b[39;49m\u001b[38;5;28;43mself\u001b[39;49m\u001b[38;5;241;43m.\u001b[39;49m\u001b[43m_flat_output_shapes\u001b[49m\u001b[43m)\u001b[49m\n\u001b[1;32m    778\u001b[0m   \u001b[38;5;28;01mtry\u001b[39;00m:\n\u001b[1;32m    779\u001b[0m     \u001b[38;5;66;03m# Fast path for the case `self._structure` is not a nested structure.\u001b[39;00m\n\u001b[1;32m    780\u001b[0m     \u001b[38;5;28;01mreturn\u001b[39;00m \u001b[38;5;28mself\u001b[39m\u001b[38;5;241m.\u001b[39m_element_spec\u001b[38;5;241m.\u001b[39m_from_compatible_tensor_list(ret)  \u001b[38;5;66;03m# pylint: disable=protected-access\u001b[39;00m\n",
      "File \u001b[0;32m~/.local/lib/python3.11/site-packages/tensorflow/python/ops/gen_dataset_ops.py:3029\u001b[0m, in \u001b[0;36miterator_get_next\u001b[0;34m(iterator, output_types, output_shapes, name)\u001b[0m\n\u001b[1;32m   3027\u001b[0m   \u001b[38;5;28;01mreturn\u001b[39;00m _result\n\u001b[1;32m   3028\u001b[0m \u001b[38;5;28;01mexcept\u001b[39;00m _core\u001b[38;5;241m.\u001b[39m_NotOkStatusException \u001b[38;5;28;01mas\u001b[39;00m e:\n\u001b[0;32m-> 3029\u001b[0m   \u001b[43m_ops\u001b[49m\u001b[38;5;241;43m.\u001b[39;49m\u001b[43mraise_from_not_ok_status\u001b[49m\u001b[43m(\u001b[49m\u001b[43me\u001b[49m\u001b[43m,\u001b[49m\u001b[43m \u001b[49m\u001b[43mname\u001b[49m\u001b[43m)\u001b[49m\n\u001b[1;32m   3030\u001b[0m \u001b[38;5;28;01mexcept\u001b[39;00m _core\u001b[38;5;241m.\u001b[39m_FallbackException:\n\u001b[1;32m   3031\u001b[0m   \u001b[38;5;28;01mpass\u001b[39;00m\n",
      "File \u001b[0;32m~/.local/lib/python3.11/site-packages/tensorflow/python/framework/ops.py:5883\u001b[0m, in \u001b[0;36mraise_from_not_ok_status\u001b[0;34m(e, name)\u001b[0m\n\u001b[1;32m   5881\u001b[0m \u001b[38;5;28;01mdef\u001b[39;00m \u001b[38;5;21mraise_from_not_ok_status\u001b[39m(e, name) \u001b[38;5;241m-\u001b[39m\u001b[38;5;241m>\u001b[39m NoReturn:\n\u001b[1;32m   5882\u001b[0m   e\u001b[38;5;241m.\u001b[39mmessage \u001b[38;5;241m+\u001b[39m\u001b[38;5;241m=\u001b[39m (\u001b[38;5;124m\"\u001b[39m\u001b[38;5;124m name: \u001b[39m\u001b[38;5;124m\"\u001b[39m \u001b[38;5;241m+\u001b[39m \u001b[38;5;28mstr\u001b[39m(name \u001b[38;5;28;01mif\u001b[39;00m name \u001b[38;5;129;01mis\u001b[39;00m \u001b[38;5;129;01mnot\u001b[39;00m \u001b[38;5;28;01mNone\u001b[39;00m \u001b[38;5;28;01melse\u001b[39;00m \u001b[38;5;124m\"\u001b[39m\u001b[38;5;124m\"\u001b[39m))\n\u001b[0;32m-> 5883\u001b[0m   \u001b[38;5;28;01mraise\u001b[39;00m core\u001b[38;5;241m.\u001b[39m_status_to_exception(e) \u001b[38;5;28;01mfrom\u001b[39;00m \u001b[38;5;28;01mNone\u001b[39;00m\n",
      "\u001b[0;31mNotFoundError\u001b[0m: {{function_node __wrapped__IteratorGetNext_output_types_2_device_/job:localhost/replica:0/task:0/device:CPU:0}} /home/shawal/Downloads/lg/common_voice_lg_23717981.mp3; No such file or directory\n\t [[{{node ReadFile}}]] [Op:IteratorGetNext] name: "
     ]
    },
    {
     "data": {
      "text/plain": [
       "<Figure size 1000x600 with 0 Axes>"
      ]
     },
     "metadata": {},
     "output_type": "display_data"
    }
   ],
   "source": [
    "fig = plt.figure(figsize=(10, 6))\n",
    "\n",
    "for batch in train_dataset.take(1):\n",
    "    spectrogram = batch[0][0].numpy()\n",
    "    spectrogram = np.array([np.trim_zeros(x) for x in np.transpose(spectrogram)])\n",
    "    label = batch[1][0]\n",
    "\n",
    "    label = tf.strings.reduce_join(num_to_char(label)).numpy().decode('utf-8')\n",
    "    ax = plt.subplot(2, 1, 1)\n",
    "    ax.imshow(spectrogram, aspect='auto', cmap='inferno',vmax=1)\n",
    "    ax.set_title(label)\n",
    "    ax.axis('off')\n",
    "\n",
    "    file = tf.io.read_file(DATA_DIR+train['path'][0])\n",
    "    audio = tfio.audio.decode_mp3(file)\n",
    "    audio = audio.numpy()\n",
    "    ax = plt.subplot(2, 1, 2)\n",
    "    plt.plot(audio)\n",
    "    ax.set_title('Audio')\n",
    "    ax.set_xlim(0, len(audio))\n",
    "    display.display(display.Audio(np.transpose(audio), rate=48000))\n",
    "\n",
    "plt.show()"
   ]
  },
  {
   "cell_type": "code",
   "execution_count": null,
   "metadata": {},
   "outputs": [],
   "source": [
    "https://www.youtube.com/watch?v=qKz_lmgad3o"
   ]
  }
 ],
 "metadata": {
  "kernelspec": {
   "display_name": "Python 3",
   "language": "python",
   "name": "python3"
  },
  "language_info": {
   "codemirror_mode": {
    "name": "ipython",
    "version": 3
   },
   "file_extension": ".py",
   "mimetype": "text/x-python",
   "name": "python",
   "nbconvert_exporter": "python",
   "pygments_lexer": "ipython3",
   "version": "3.11.6"
  }
 },
 "nbformat": 4,
 "nbformat_minor": 2
}
