{
 "cells": [
  {
   "cell_type": "code",
   "execution_count": null,
   "metadata": {},
   "outputs": [
    {
     "ename": "",
     "evalue": "",
     "output_type": "error",
     "traceback": [
      "\u001b[1;31mRunning cells with '/bin/python' requires the ipykernel package.\n",
      "\u001b[1;31mRun the following command to install 'ipykernel' into the Python environment. \n",
      "\u001b[1;31mCommand: '/bin/python -m pip install ipykernel -U --user --force-reinstall'"
     ]
    }
   ],
   "source": [
    "# .mp3\n",
    "# .flac\n",
    "# .wav\n",
    "\n",
    "# Import the wave module\n",
    "import wave"
   ]
  },
  {
   "cell_type": "code",
   "execution_count": null,
   "metadata": {},
   "outputs": [],
   "source": [
    "# Audio signal parameters\n",
    "# Number of audio channels (1 for mono, 2 for stereo)\n",
    "# Number of bytes per sample - sample width\n",
    "# Number of frames per second - frame rate/ samplerate\n",
    "# Number of frames \n",
    "# values in each frame\n",
    "\n",
    "sample_wave_file = \"samp.wav\"\n",
    "\n",
    "audio = wave.open(sample_wave_file, \"rb\")"
   ]
  }
 ],
 "metadata": {
  "kernelspec": {
   "display_name": "Python 3",
   "language": "python",
   "name": "python3"
  },
  "language_info": {
   "name": "python",
   "version": "3.11.6"
  }
 },
 "nbformat": 4,
 "nbformat_minor": 2
}
