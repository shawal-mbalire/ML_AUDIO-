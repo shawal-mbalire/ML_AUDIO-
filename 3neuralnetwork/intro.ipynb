{
 "cells": [
  {
   "cell_type": "code",
   "execution_count": null,
   "metadata": {},
   "outputs": [],
   "source": [
    "# RNN \n",
    "# kenLM - a light weight RNN language model, we can use transformers(huggingface) as well\n",
    "# ctc beam search algorithm, erscoring algorithm\n"
   ]
  }
 ],
 "metadata": {
  "language_info": {
   "name": "python"
  }
 },
 "nbformat": 4,
 "nbformat_minor": 2
}
